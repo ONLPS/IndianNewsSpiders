{
 "cells": [
  {
   "cell_type": "code",
   "execution_count": 1,
   "metadata": {},
   "outputs": [],
   "source": [
    "import pandas as pd"
   ]
  },
  {
   "cell_type": "code",
   "execution_count": 7,
   "metadata": {},
   "outputs": [],
   "source": [
    "title = ['.//div[1]/div/h1/span/text()', \n",
    "         '//*[@id=\"story\"]/article/div/div/div/h1/text()', \n",
    "        '']\n",
    "\n",
    "content = ['.//div[3]/div[2]/div[2]/p/text()', ]\n",
    "\n",
    "#website = [\"wire\", \"swarajya\"] \n",
    "\n",
    "xpath_df = pd.DataFrame(dict(title=[], content=[], author=[], \n",
    "                       date=[], comments=[], url=[], \n",
    "                       tag=[], share=[], website=[]))"
   ]
  },
  {
   "cell_type": "code",
   "execution_count": null,
   "metadata": {},
   "outputs": [],
   "source": []
  },
  {
   "cell_type": "code",
   "execution_count": null,
   "metadata": {},
   "outputs": [],
   "source": []
  }
 ],
 "metadata": {
  "kernelspec": {
   "display_name": "Python 3",
   "language": "python",
   "name": "python3"
  },
  "language_info": {
   "codemirror_mode": {
    "name": "ipython",
    "version": 3
   },
   "file_extension": ".py",
   "mimetype": "text/x-python",
   "name": "python",
   "nbconvert_exporter": "python",
   "pygments_lexer": "ipython3",
   "version": "3.6.6"
  }
 },
 "nbformat": 4,
 "nbformat_minor": 2
}
