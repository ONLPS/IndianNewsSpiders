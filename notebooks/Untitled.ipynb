{
 "cells": [
  {
   "cell_type": "code",
   "execution_count": 137,
   "metadata": {},
   "outputs": [],
   "source": [
    "import pandas as pd\n",
    "import numpy as np"
   ]
  },
  {
   "cell_type": "code",
   "execution_count": 138,
   "metadata": {},
   "outputs": [],
   "source": [
    "df = pd.read_csv(\"../IndianNews/data/data.csv\")"
   ]
  },
  {
   "cell_type": "code",
   "execution_count": 139,
   "metadata": {},
   "outputs": [
    {
     "data": {
      "text/plain": [
       "(10, 6)"
      ]
     },
     "execution_count": 139,
     "metadata": {},
     "output_type": "execute_result"
    }
   ],
   "source": [
    "df.shape"
   ]
  },
  {
   "cell_type": "code",
   "execution_count": 140,
   "metadata": {},
   "outputs": [
    {
     "data": {
      "text/plain": [
       "(0, 6)"
      ]
     },
     "execution_count": 140,
     "metadata": {},
     "output_type": "execute_result"
    }
   ],
   "source": [
    "df.dropna().shape"
   ]
  },
  {
   "cell_type": "code",
   "execution_count": 141,
   "metadata": {},
   "outputs": [
    {
     "data": {
      "text/plain": [
       "author      0\n",
       "content     0\n",
       "date       10\n",
       "tag         0\n",
       "title       0\n",
       "url         0\n",
       "dtype: int64"
      ]
     },
     "execution_count": 141,
     "metadata": {},
     "output_type": "execute_result"
    }
   ],
   "source": [
    "df.isna().sum()"
   ]
  },
  {
   "cell_type": "code",
   "execution_count": 142,
   "metadata": {},
   "outputs": [
    {
     "data": {
      "text/plain": [
       "author     10\n",
       "content    10\n",
       "date        0\n",
       "tag        10\n",
       "title      10\n",
       "url        10\n",
       "dtype: int64"
      ]
     },
     "execution_count": 142,
     "metadata": {},
     "output_type": "execute_result"
    }
   ],
   "source": [
    "df.apply(pd.Series.nunique)"
   ]
  },
  {
   "cell_type": "code",
   "execution_count": 143,
   "metadata": {},
   "outputs": [],
   "source": [
    "naframe = df[df.isnull().any(axis=1)]\n"
   ]
  },
  {
   "cell_type": "code",
   "execution_count": 144,
   "metadata": {},
   "outputs": [
    {
     "name": "stdout",
     "output_type": "stream",
     "text": [
      "https://www.dailyo.in/politics/kumbh-mela-prayagraj-yogi-adityanath-bjp-ram-temple-uttar-pradesh/story/1/28698.html\n",
      "\n",
      "\n",
      "https://www.dailyo.in/politics/rahul-gandhi-congress-rafale-narendra-modi-jpc-hal/story/1/28682.html\n",
      "\n",
      "\n",
      "https://www.dailyo.in/politics/kamal-nath-madhya-pradesh-shivraj-singh-chouhan-surya-namaskar-vivekanand-birth-anniversary/story/1/28675.html\n",
      "\n",
      "\n",
      "https://www.dailyo.in/politics/global-happiness-index-exemplary-life-stories-of-common-folks-who-stayed-positive-and-beat-the-odds/story/1/28692.html\n",
      "\n",
      "\n",
      "https://www.dailyo.in/politics/why-the-gehlot-government-in-rajasthan-is-not-being-able-to-take-new-decisions/story/1/28681.html\n",
      "\n",
      "\n",
      "https://www.dailyo.in/politics/indo-afghan-ties-despite-donald-trump-india-and-the-us-have-a-cherished-place-in-afghan-hearts/story/1/28701.html\n",
      "\n",
      "\n",
      "https://www.dailyo.in/politics/rahul-gandhi-rafale-narendra-modi-jpc-arun-jaitley-manohar-parikkar/story/1/28687.html\n",
      "\n",
      "\n",
      "https://www.dailyo.in/politics/2019-general-elections-narendra-modi-ujjwala-scheme-gst-nps-hindutva/story/1/28715.html\n",
      "\n",
      "\n",
      "https://www.dailyo.in/politics/from-1947-to-2019-the-journey-of-a-muslim-who-is-an-indian-first/story/1/28696.html\n",
      "\n",
      "\n",
      "https://www.dailyo.in/politics/as-bjp-congress-spar-over-loan-waivers-how-regional-parties-are-tackling-farm-distress/story/1/28716.html\n",
      "\n",
      "\n"
     ]
    }
   ],
   "source": [
    "for i in naframe.url:\n",
    "    print(i)\n",
    "    print(\"\\n\")"
   ]
  },
  {
   "cell_type": "code",
   "execution_count": 145,
   "metadata": {},
   "outputs": [
    {
     "data": {
      "text/html": [
       "<div>\n",
       "<style scoped>\n",
       "    .dataframe tbody tr th:only-of-type {\n",
       "        vertical-align: middle;\n",
       "    }\n",
       "\n",
       "    .dataframe tbody tr th {\n",
       "        vertical-align: top;\n",
       "    }\n",
       "\n",
       "    .dataframe thead th {\n",
       "        text-align: right;\n",
       "    }\n",
       "</style>\n",
       "<table border=\"1\" class=\"dataframe\">\n",
       "  <thead>\n",
       "    <tr style=\"text-align: right;\">\n",
       "      <th></th>\n",
       "      <th>author</th>\n",
       "      <th>content</th>\n",
       "      <th>date</th>\n",
       "      <th>tag</th>\n",
       "      <th>title</th>\n",
       "      <th>url</th>\n",
       "    </tr>\n",
       "  </thead>\n",
       "  <tbody>\n",
       "    <tr>\n",
       "      <th>0</th>\n",
       "      <td>Ashutosh Mishra</td>\n",
       "      <td>The Chief Minister of Uttar Pradesh, Yogi Adit...</td>\n",
       "      <td>NaN</td>\n",
       "      <td>BJP,Yogi Adityanath,Prayagraj,Kumbh mela</td>\n",
       "      <td>Cornered over Ram temple, how the BJP is hopin...</td>\n",
       "      <td>https://www.dailyo.in/politics/kumbh-mela-pray...</td>\n",
       "    </tr>\n",
       "    <tr>\n",
       "      <th>1</th>\n",
       "      <td>Tuhin A Sinha</td>\n",
       "      <td>After watching Rahul Gandhi and his Congress p...</td>\n",
       "      <td>NaN</td>\n",
       "      <td>Defence deals,Narendra Modi,Rafale Deal,Rahul ...</td>\n",
       "      <td>Why Rahul Gandhi's Congress party beats all go...</td>\n",
       "      <td>https://www.dailyo.in/politics/rahul-gandhi-co...</td>\n",
       "    </tr>\n",
       "    <tr>\n",
       "      <th>2</th>\n",
       "      <td>Rasheed Kidwai</td>\n",
       "      <td>The Kamal Nath-led Congress government in Madh...</td>\n",
       "      <td>NaN</td>\n",
       "      <td>Surya Namaskar,Shivraj Singh Chouhan,Madhya Pr...</td>\n",
       "      <td>From 'mass Surya Namaskar' to singing 'Vande M...</td>\n",
       "      <td>https://www.dailyo.in/politics/kamal-nath-madh...</td>\n",
       "    </tr>\n",
       "    <tr>\n",
       "      <th>3</th>\n",
       "      <td>Aroon Purie</td>\n",
       "      <td>What is the secret to happiness? The 14th Dala...</td>\n",
       "      <td>NaN</td>\n",
       "      <td>Public policy,Freedom,Life expectancy,Global H...</td>\n",
       "      <td>Learning from exemplary life stories of common...</td>\n",
       "      <td>https://www.dailyo.in/politics/global-happines...</td>\n",
       "    </tr>\n",
       "    <tr>\n",
       "      <th>4</th>\n",
       "      <td>Rohit Parihar</td>\n",
       "      <td>The tussle between Rajasthan Chief Minister As...</td>\n",
       "      <td>NaN</td>\n",
       "      <td>Jaipur metro,Congress,Rajasthan,Ashok Gehlot</td>\n",
       "      <td>Why the Gehlot government in Rajasthan is not ...</td>\n",
       "      <td>https://www.dailyo.in/politics/why-the-gehlot-...</td>\n",
       "    </tr>\n",
       "    <tr>\n",
       "      <th>5</th>\n",
       "      <td>Mohammad Anil Qasemi</td>\n",
       "      <td>The years of bloodshed in Afghanistan have had...</td>\n",
       "      <td>NaN</td>\n",
       "      <td>Indo-afghan ties,Narendra Modi,Donald Trump,Af...</td>\n",
       "      <td>Despite Donald Trump, India and the US have a ...</td>\n",
       "      <td>https://www.dailyo.in/politics/indo-afghan-tie...</td>\n",
       "    </tr>\n",
       "    <tr>\n",
       "      <th>6</th>\n",
       "      <td>Sandip Ghose</td>\n",
       "      <td>An iconic media baron I had the opportunity of...</td>\n",
       "      <td>NaN</td>\n",
       "      <td>Christian Michel,Rahul Gandhi,Narendra Modi,Ra...</td>\n",
       "      <td>Rahul Gandhi's attack on PM Modi over Rafale i...</td>\n",
       "      <td>https://www.dailyo.in/politics/rahul-gandhi-ra...</td>\n",
       "    </tr>\n",
       "    <tr>\n",
       "      <th>7</th>\n",
       "      <td>Praveen Shekhar</td>\n",
       "      <td>The results of the recent Assembly elections i...</td>\n",
       "      <td>NaN</td>\n",
       "      <td>Nps,Ujjwala scheme,Narendra Modi,2019 general ...</td>\n",
       "      <td>How the Modi government is steering the discou...</td>\n",
       "      <td>https://www.dailyo.in/politics/2019-general-el...</td>\n",
       "    </tr>\n",
       "    <tr>\n",
       "      <th>8</th>\n",
       "      <td>Meera Rizvi</td>\n",
       "      <td>In 1947, when they heard the news that India w...</td>\n",
       "      <td>NaN</td>\n",
       "      <td>India-Pakistan,Narendra Modi,Partition,Muslims...</td>\n",
       "      <td>From 1947 to 2019: The journey of a Muslim who...</td>\n",
       "      <td>https://www.dailyo.in/politics/from-1947-to-20...</td>\n",
       "    </tr>\n",
       "    <tr>\n",
       "      <th>9</th>\n",
       "      <td>Arindam De</td>\n",
       "      <td>Approaching elections never fail to make the c...</td>\n",
       "      <td>NaN</td>\n",
       "      <td>2019 Lok Sabha elections,Regional parties,Loan...</td>\n",
       "      <td>As BJP, Congress spar over loan waivers, how r...</td>\n",
       "      <td>https://www.dailyo.in/politics/as-bjp-congress...</td>\n",
       "    </tr>\n",
       "  </tbody>\n",
       "</table>\n",
       "</div>"
      ],
      "text/plain": [
       "                 author                                            content  \\\n",
       "0       Ashutosh Mishra  The Chief Minister of Uttar Pradesh, Yogi Adit...   \n",
       "1         Tuhin A Sinha  After watching Rahul Gandhi and his Congress p...   \n",
       "2        Rasheed Kidwai  The Kamal Nath-led Congress government in Madh...   \n",
       "3           Aroon Purie  What is the secret to happiness? The 14th Dala...   \n",
       "4         Rohit Parihar  The tussle between Rajasthan Chief Minister As...   \n",
       "5  Mohammad Anil Qasemi  The years of bloodshed in Afghanistan have had...   \n",
       "6          Sandip Ghose  An iconic media baron I had the opportunity of...   \n",
       "7       Praveen Shekhar  The results of the recent Assembly elections i...   \n",
       "8           Meera Rizvi  In 1947, when they heard the news that India w...   \n",
       "9            Arindam De  Approaching elections never fail to make the c...   \n",
       "\n",
       "   date                                                tag  \\\n",
       "0   NaN           BJP,Yogi Adityanath,Prayagraj,Kumbh mela   \n",
       "1   NaN  Defence deals,Narendra Modi,Rafale Deal,Rahul ...   \n",
       "2   NaN  Surya Namaskar,Shivraj Singh Chouhan,Madhya Pr...   \n",
       "3   NaN  Public policy,Freedom,Life expectancy,Global H...   \n",
       "4   NaN       Jaipur metro,Congress,Rajasthan,Ashok Gehlot   \n",
       "5   NaN  Indo-afghan ties,Narendra Modi,Donald Trump,Af...   \n",
       "6   NaN  Christian Michel,Rahul Gandhi,Narendra Modi,Ra...   \n",
       "7   NaN  Nps,Ujjwala scheme,Narendra Modi,2019 general ...   \n",
       "8   NaN  India-Pakistan,Narendra Modi,Partition,Muslims...   \n",
       "9   NaN  2019 Lok Sabha elections,Regional parties,Loan...   \n",
       "\n",
       "                                               title  \\\n",
       "0  Cornered over Ram temple, how the BJP is hopin...   \n",
       "1  Why Rahul Gandhi's Congress party beats all go...   \n",
       "2  From 'mass Surya Namaskar' to singing 'Vande M...   \n",
       "3  Learning from exemplary life stories of common...   \n",
       "4  Why the Gehlot government in Rajasthan is not ...   \n",
       "5  Despite Donald Trump, India and the US have a ...   \n",
       "6  Rahul Gandhi's attack on PM Modi over Rafale i...   \n",
       "7  How the Modi government is steering the discou...   \n",
       "8  From 1947 to 2019: The journey of a Muslim who...   \n",
       "9  As BJP, Congress spar over loan waivers, how r...   \n",
       "\n",
       "                                                 url  \n",
       "0  https://www.dailyo.in/politics/kumbh-mela-pray...  \n",
       "1  https://www.dailyo.in/politics/rahul-gandhi-co...  \n",
       "2  https://www.dailyo.in/politics/kamal-nath-madh...  \n",
       "3  https://www.dailyo.in/politics/global-happines...  \n",
       "4  https://www.dailyo.in/politics/why-the-gehlot-...  \n",
       "5  https://www.dailyo.in/politics/indo-afghan-tie...  \n",
       "6  https://www.dailyo.in/politics/rahul-gandhi-ra...  \n",
       "7  https://www.dailyo.in/politics/2019-general-el...  \n",
       "8  https://www.dailyo.in/politics/from-1947-to-20...  \n",
       "9  https://www.dailyo.in/politics/as-bjp-congress...  "
      ]
     },
     "execution_count": 145,
     "metadata": {},
     "output_type": "execute_result"
    }
   ],
   "source": [
    "df"
   ]
  },
  {
   "cell_type": "code",
   "execution_count": null,
   "metadata": {},
   "outputs": [],
   "source": []
  },
  {
   "cell_type": "code",
   "execution_count": null,
   "metadata": {},
   "outputs": [],
   "source": []
  },
  {
   "cell_type": "code",
   "execution_count": null,
   "metadata": {},
   "outputs": [],
   "source": []
  },
  {
   "cell_type": "code",
   "execution_count": null,
   "metadata": {},
   "outputs": [],
   "source": []
  }
 ],
 "metadata": {
  "kernelspec": {
   "display_name": "Python 3",
   "language": "python",
   "name": "python3"
  },
  "language_info": {
   "codemirror_mode": {
    "name": "ipython",
    "version": 3
   },
   "file_extension": ".py",
   "mimetype": "text/x-python",
   "name": "python",
   "nbconvert_exporter": "python",
   "pygments_lexer": "ipython3",
   "version": "3.6.7"
  }
 },
 "nbformat": 4,
 "nbformat_minor": 2
}
