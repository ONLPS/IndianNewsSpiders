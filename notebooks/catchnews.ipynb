{
 "cells": [
  {
   "cell_type": "code",
   "execution_count": 1,
   "metadata": {},
   "outputs": [],
   "source": [
    "import pandas as pd\n",
    "import numpy as np\n",
    "from collections import namedtuple"
   ]
  },
  {
   "cell_type": "code",
   "execution_count": 2,
   "metadata": {},
   "outputs": [],
   "source": [
    "def read_data(path): \n",
    "    doc = namedtuple(\"DOC\", [\"data\", \"missing_vals_count\",\n",
    "                        \"unique_vals\", \"missing_vals_data\"])\n",
    "    \n",
    "    df = pd.read_csv(path)\n",
    "    missing_vals_count = df.isna().sum()\n",
    "    unique_vals = df.apply(pd.Series.nunique)\n",
    "    naframe = df[df.isnull().any(axis=1)]\n",
    "    return doc(df, missing_vals_count, unique_vals, naframe)\n",
    "\n",
    "def filter_data_from_dates(df, start, end):\n",
    "    return df[(df['date'] > f'{start}') & (df['date'] < f'{end}')]\n",
    "\n",
    "def blacklist_filter(df, column, blacklist):\n",
    "    blacklist_pattern = '|'.join(blacklist)\n",
    "    index_list = [i for i in df[df[column].str.contains(blacklist_pattern)].index]\n",
    "    return df.drop(df.index[index_list])"
   ]
  },
  {
   "cell_type": "code",
   "execution_count": 3,
   "metadata": {},
   "outputs": [],
   "source": [
    "catchnews = read_data(\"../IndianNews/data/catchnews.csv\")\n",
    "catch2018 = read_data(\"../IndianNews/data/catchnews2018.csv\")"
   ]
  },
  {
   "cell_type": "code",
   "execution_count": 4,
   "metadata": {},
   "outputs": [],
   "source": [
    "df = catch2018.data.drop(\"Unnamed: 0\", axis=1)\n",
    "missing_some_data = catch2018.missing_vals_data"
   ]
  },
  {
   "cell_type": "code",
   "execution_count": 5,
   "metadata": {},
   "outputs": [],
   "source": [
    "blacklist = [\"international-news/\", \n",
    "             \"business-economy-news/\", \n",
    "             \"world-news/\", \n",
    "             \"education-news/\", \n",
    "             \"environment-news/\"]\n",
    "\n",
    "blacklist = [\"http://www.catchnews.com/\"+i for i in blacklist]"
   ]
  },
  {
   "cell_type": "code",
   "execution_count": 6,
   "metadata": {},
   "outputs": [],
   "source": [
    "df = blacklist_filter(df, \"url\", blacklist)"
   ]
  },
  {
   "cell_type": "code",
   "execution_count": 10,
   "metadata": {},
   "outputs": [],
   "source": [
    "#df.to_csv(\"../IndianNews/data/catchnews_2018.csv\")"
   ]
  },
  {
   "cell_type": "code",
   "execution_count": null,
   "metadata": {},
   "outputs": [],
   "source": []
  }
 ],
 "metadata": {
  "kernelspec": {
   "display_name": "Python 3",
   "language": "python",
   "name": "python3"
  },
  "language_info": {
   "codemirror_mode": {
    "name": "ipython",
    "version": 3
   },
   "file_extension": ".py",
   "mimetype": "text/x-python",
   "name": "python",
   "nbconvert_exporter": "python",
   "pygments_lexer": "ipython3",
   "version": "3.6.7"
  }
 },
 "nbformat": 4,
 "nbformat_minor": 2
}
