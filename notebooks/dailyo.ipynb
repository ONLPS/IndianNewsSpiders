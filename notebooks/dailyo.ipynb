{
 "cells": [
  {
   "cell_type": "code",
   "execution_count": 13,
   "metadata": {},
   "outputs": [],
   "source": [
    "import pandas as pd\n",
    "import numpy as np\n",
    "from collections import namedtuple"
   ]
  },
  {
   "cell_type": "code",
   "execution_count": 82,
   "metadata": {},
   "outputs": [],
   "source": [
    "def read_data(path): \n",
    "    doc = namedtuple(\"DOC\", [\"data\", \"missing_vals_count\",\n",
    "                        \"unique_vals\", \"missing_vals_data\"])\n",
    "    \n",
    "    df = pd.read_csv(path)\n",
    "    missing_vals_count = df.isna().sum()\n",
    "    unique_vals = df.apply(pd.Series.nunique)\n",
    "    naframe = df[df.isnull().any(axis=1)]\n",
    "    return doc(df, missing_vals_count, unique_vals, naframe)\n",
    "\n",
    "def filter_data_from_dates(df, start, end):\n",
    "    return df[(df['date'] > f'{start}') & (df['date'] < f'{end}')]"
   ]
  },
  {
   "cell_type": "code",
   "execution_count": 80,
   "metadata": {},
   "outputs": [],
   "source": [
    "dailyo = read_data(\"../IndianNews/data/dailyo.csv\")\n",
    "#catch2018 = read_data(\"../IndianNews/data/catchnews2018.csv\")\n",
    "df = dailyo.data"
   ]
  },
  {
   "cell_type": "code",
   "execution_count": 81,
   "metadata": {},
   "outputs": [
    {
     "data": {
      "text/plain": [
       "(905, 6)"
      ]
     },
     "execution_count": 81,
     "metadata": {},
     "output_type": "execute_result"
    }
   ],
   "source": [
    "df.shape"
   ]
  },
  {
   "cell_type": "code",
   "execution_count": 64,
   "metadata": {},
   "outputs": [
    {
     "data": {
      "text/plain": [
       "author     0\n",
       "content    2\n",
       "date       0\n",
       "tag        2\n",
       "title      0\n",
       "url        0\n",
       "dtype: int64"
      ]
     },
     "execution_count": 64,
     "metadata": {},
     "output_type": "execute_result"
    }
   ],
   "source": [
    "df.isna().sum()"
   ]
  },
  {
   "cell_type": "code",
   "execution_count": 79,
   "metadata": {},
   "outputs": [
    {
     "data": {
      "text/html": [
       "<div>\n",
       "<style scoped>\n",
       "    .dataframe tbody tr th:only-of-type {\n",
       "        vertical-align: middle;\n",
       "    }\n",
       "\n",
       "    .dataframe tbody tr th {\n",
       "        vertical-align: top;\n",
       "    }\n",
       "\n",
       "    .dataframe thead th {\n",
       "        text-align: right;\n",
       "    }\n",
       "</style>\n",
       "<table border=\"1\" class=\"dataframe\">\n",
       "  <thead>\n",
       "    <tr style=\"text-align: right;\">\n",
       "      <th></th>\n",
       "      <th>author</th>\n",
       "      <th>content</th>\n",
       "      <th>date</th>\n",
       "      <th>tag</th>\n",
       "      <th>title</th>\n",
       "      <th>url</th>\n",
       "    </tr>\n",
       "  </thead>\n",
       "  <tbody>\n",
       "    <tr>\n",
       "      <th>145</th>\n",
       "      <td>Vikram Sood</td>\n",
       "      <td>NaN</td>\n",
       "      <td>2018-10-10 20:49:06</td>\n",
       "      <td>China,Interpol chief,Missing,Meng hongwei</td>\n",
       "      <td>China's great wall: The mysterious case of the...</td>\n",
       "      <td>https://www.dailyo.in/politics/interpol-chief-...</td>\n",
       "    </tr>\n",
       "    <tr>\n",
       "      <th>179</th>\n",
       "      <td>Kiran Tare</td>\n",
       "      <td>On September 19, Devendra Fadnavis became the ...</td>\n",
       "      <td>2018-09-21 15:07:15</td>\n",
       "      <td>NaN</td>\n",
       "      <td>Fadnavis becomes longest serving non-Congress ...</td>\n",
       "      <td>https://www.dailyo.in/politics/devendra-fadnav...</td>\n",
       "    </tr>\n",
       "    <tr>\n",
       "      <th>200</th>\n",
       "      <td>Amir Ali</td>\n",
       "      <td>NaN</td>\n",
       "      <td>2018-09-07 18:45:28</td>\n",
       "      <td>Britain,Anti-semitism,Islamophobia,Racism</td>\n",
       "      <td>The face of boorish Britain - Boris Johnson’s ...</td>\n",
       "      <td>https://www.dailyo.in/politics/britian-racism-...</td>\n",
       "    </tr>\n",
       "    <tr>\n",
       "      <th>350</th>\n",
       "      <td>Clyde Crasto</td>\n",
       "      <td>We all remember the “Minimum Government, Maxim...</td>\n",
       "      <td>2018-06-05 18:23:18</td>\n",
       "      <td>NaN</td>\n",
       "      <td>No love lost, why Shiv Sena and BJP are sticki...</td>\n",
       "      <td>https://www.dailyo.in/politics/maharashtra-201...</td>\n",
       "    </tr>\n",
       "  </tbody>\n",
       "</table>\n",
       "</div>"
      ],
      "text/plain": [
       "           author                                            content  \\\n",
       "145   Vikram Sood                                                NaN   \n",
       "179    Kiran Tare  On September 19, Devendra Fadnavis became the ...   \n",
       "200      Amir Ali                                                NaN   \n",
       "350  Clyde Crasto  We all remember the “Minimum Government, Maxim...   \n",
       "\n",
       "                    date                                        tag  \\\n",
       "145  2018-10-10 20:49:06  China,Interpol chief,Missing,Meng hongwei   \n",
       "179  2018-09-21 15:07:15                                        NaN   \n",
       "200  2018-09-07 18:45:28  Britain,Anti-semitism,Islamophobia,Racism   \n",
       "350  2018-06-05 18:23:18                                        NaN   \n",
       "\n",
       "                                                 title  \\\n",
       "145  China's great wall: The mysterious case of the...   \n",
       "179  Fadnavis becomes longest serving non-Congress ...   \n",
       "200  The face of boorish Britain - Boris Johnson’s ...   \n",
       "350  No love lost, why Shiv Sena and BJP are sticki...   \n",
       "\n",
       "                                                   url  \n",
       "145  https://www.dailyo.in/politics/interpol-chief-...  \n",
       "179  https://www.dailyo.in/politics/devendra-fadnav...  \n",
       "200  https://www.dailyo.in/politics/britian-racism-...  \n",
       "350  https://www.dailyo.in/politics/maharashtra-201...  "
      ]
     },
     "execution_count": 79,
     "metadata": {},
     "output_type": "execute_result"
    }
   ],
   "source": [
    "nadf = df[df.isnull().any(axis=1)]\n",
    "nadf"
   ]
  },
  {
   "cell_type": "code",
   "execution_count": 78,
   "metadata": {},
   "outputs": [
    {
     "name": "stderr",
     "output_type": "stream",
     "text": [
      "/home/xenomorph/applications/anaconda3/lib/python3.6/site-packages/ipykernel_launcher.py:3: SettingWithCopyWarning: \n",
      "A value is trying to be set on a copy of a slice from a DataFrame.\n",
      "Try using .loc[row_indexer,col_indexer] = value instead\n",
      "\n",
      "See the caveats in the documentation: http://pandas.pydata.org/pandas-docs/stable/indexing.html#indexing-view-versus-copy\n",
      "  This is separate from the ipykernel package so we can avoid doing imports until\n",
      "/home/xenomorph/applications/anaconda3/lib/python3.6/site-packages/ipykernel_launcher.py:4: SettingWithCopyWarning: \n",
      "A value is trying to be set on a copy of a slice from a DataFrame.\n",
      "Try using .loc[row_indexer,col_indexer] = value instead\n",
      "\n",
      "See the caveats in the documentation: http://pandas.pydata.org/pandas-docs/stable/indexing.html#indexing-view-versus-copy\n",
      "  after removing the cwd from sys.path.\n"
     ]
    }
   ],
   "source": [
    "dailyo2018 = filter_data_from_dates(df, \"2018-01-01\", \"2018-12-01\")\n",
    "nadailyo = dailyo2018[dailyo2018.isnull().any(axis=1)]\n",
    "dailyo2018[\"date\"] = pd.to_datetime(dailyo2018.date) \n",
    "dailyo2018['date'] = dailyo2018['date'].dt.strftime('%Y-%m-%d')"
   ]
  },
  {
   "cell_type": "code",
   "execution_count": 74,
   "metadata": {},
   "outputs": [],
   "source": [
    "finaldailyo = dailyo2018.drop(dailyo2018.index[[145, 179, 200, 350]])"
   ]
  },
  {
   "cell_type": "code",
   "execution_count": 77,
   "metadata": {},
   "outputs": [],
   "source": [
    "#finaldailyo.to_csv(\"../IndianNews/data/dailyo_2018.csv\")"
   ]
  },
  {
   "cell_type": "code",
   "execution_count": 4,
   "metadata": {},
   "outputs": [],
   "source": [
    "#df = catch2018.data.drop(\"Unnamed: 0\", axis=1)\n",
    "#missing_some_data = catch2018.missing_vals_data"
   ]
  },
  {
   "cell_type": "code",
   "execution_count": 83,
   "metadata": {},
   "outputs": [
    {
     "data": {
      "text/plain": [
       "author     210\n",
       "content    524\n",
       "date       241\n",
       "tag        522\n",
       "title      526\n",
       "url        526\n",
       "dtype: int64"
      ]
     },
     "execution_count": 83,
     "metadata": {},
     "output_type": "execute_result"
    }
   ],
   "source": [
    "dailyo2018.apply(pd.Series.nunique)"
   ]
  },
  {
   "cell_type": "code",
   "execution_count": 87,
   "metadata": {},
   "outputs": [],
   "source": [
    "dailyo_2018 = read_data(\"../IndianNews/data/dailyo_2018.csv\")\n",
    "dailyo_df = dailyo_2018.data.drop(\"Unnamed: 0\", axis=1)"
   ]
  },
  {
   "cell_type": "code",
   "execution_count": 90,
   "metadata": {},
   "outputs": [
    {
     "data": {
      "text/html": [
       "<div>\n",
       "<style scoped>\n",
       "    .dataframe tbody tr th:only-of-type {\n",
       "        vertical-align: middle;\n",
       "    }\n",
       "\n",
       "    .dataframe tbody tr th {\n",
       "        vertical-align: top;\n",
       "    }\n",
       "\n",
       "    .dataframe thead th {\n",
       "        text-align: right;\n",
       "    }\n",
       "</style>\n",
       "<table border=\"1\" class=\"dataframe\">\n",
       "  <thead>\n",
       "    <tr style=\"text-align: right;\">\n",
       "      <th></th>\n",
       "      <th>author</th>\n",
       "      <th>content</th>\n",
       "      <th>date</th>\n",
       "      <th>tag</th>\n",
       "      <th>title</th>\n",
       "      <th>url</th>\n",
       "    </tr>\n",
       "  </thead>\n",
       "  <tbody>\n",
       "    <tr>\n",
       "      <th>0</th>\n",
       "      <td>Sahil Joshi</td>\n",
       "      <td>Finally, Marathas (not Marathi) have got what ...</td>\n",
       "      <td>2018-11-30</td>\n",
       "      <td>Devendra Fadnavis,BJP,Congress-ncp,Maharashtra</td>\n",
       "      <td>How Maratha leaders have failed their communit...</td>\n",
       "      <td>https://www.dailyo.in/politics/marathas-mahara...</td>\n",
       "    </tr>\n",
       "    <tr>\n",
       "      <th>1</th>\n",
       "      <td>Majid Hyderi</td>\n",
       "      <td>J&amp;K Governor SP Malik’s  , of treating Jammu a...</td>\n",
       "      <td>2018-11-30</td>\n",
       "      <td>Mehbooba Mufti,Governor satya pal malik,PSU,Ja...</td>\n",
       "      <td>Why only the high and mighty of Kashmir are un...</td>\n",
       "      <td>https://www.dailyo.in/politics/j-amp-k-bank-ps...</td>\n",
       "    </tr>\n",
       "    <tr>\n",
       "      <th>2</th>\n",
       "      <td>Ashish Pandey</td>\n",
       "      <td>With elections just a week away, Telangana is ...</td>\n",
       "      <td>2018-11-30</td>\n",
       "      <td>TDP,TRS,Assembly elections,Telangana assembly ...</td>\n",
       "      <td>Telangana polls: Who stands to win the big battle</td>\n",
       "      <td>https://www.dailyo.in/politics/telangana-assem...</td>\n",
       "    </tr>\n",
       "    <tr>\n",
       "      <th>3</th>\n",
       "      <td>Aroon Purie</td>\n",
       "      <td>For millions of fans, Rajinikanth is simply Th...</td>\n",
       "      <td>2018-11-29</td>\n",
       "      <td>Vijayakanth,Tamil Nadu,2.0,Rajinikanth</td>\n",
       "      <td>Rajinikanth’s 2.0: Will it make or mar his pol...</td>\n",
       "      <td>https://www.dailyo.in/politics/rajanikanth-2-0...</td>\n",
       "    </tr>\n",
       "    <tr>\n",
       "      <th>4</th>\n",
       "      <td>Srijana Mitra Das</td>\n",
       "      <td>Our relationships with nations are deeply pers...</td>\n",
       "      <td>2018-11-29</td>\n",
       "      <td>Navjot Singh Sidhu,Imran Khan,Kartarpur corrid...</td>\n",
       "      <td>Keep it cool: With Pakistan, India should neve...</td>\n",
       "      <td>https://www.dailyo.in/politics/kartarpur-corri...</td>\n",
       "    </tr>\n",
       "  </tbody>\n",
       "</table>\n",
       "</div>"
      ],
      "text/plain": [
       "              author                                            content  \\\n",
       "0        Sahil Joshi  Finally, Marathas (not Marathi) have got what ...   \n",
       "1       Majid Hyderi  J&K Governor SP Malik’s  , of treating Jammu a...   \n",
       "2      Ashish Pandey  With elections just a week away, Telangana is ...   \n",
       "3        Aroon Purie  For millions of fans, Rajinikanth is simply Th...   \n",
       "4  Srijana Mitra Das  Our relationships with nations are deeply pers...   \n",
       "\n",
       "         date                                                tag  \\\n",
       "0  2018-11-30     Devendra Fadnavis,BJP,Congress-ncp,Maharashtra   \n",
       "1  2018-11-30  Mehbooba Mufti,Governor satya pal malik,PSU,Ja...   \n",
       "2  2018-11-30  TDP,TRS,Assembly elections,Telangana assembly ...   \n",
       "3  2018-11-29             Vijayakanth,Tamil Nadu,2.0,Rajinikanth   \n",
       "4  2018-11-29  Navjot Singh Sidhu,Imran Khan,Kartarpur corrid...   \n",
       "\n",
       "                                               title  \\\n",
       "0  How Maratha leaders have failed their communit...   \n",
       "1  Why only the high and mighty of Kashmir are un...   \n",
       "2  Telangana polls: Who stands to win the big battle   \n",
       "3  Rajinikanth’s 2.0: Will it make or mar his pol...   \n",
       "4  Keep it cool: With Pakistan, India should neve...   \n",
       "\n",
       "                                                 url  \n",
       "0  https://www.dailyo.in/politics/marathas-mahara...  \n",
       "1  https://www.dailyo.in/politics/j-amp-k-bank-ps...  \n",
       "2  https://www.dailyo.in/politics/telangana-assem...  \n",
       "3  https://www.dailyo.in/politics/rajanikanth-2-0...  \n",
       "4  https://www.dailyo.in/politics/kartarpur-corri...  "
      ]
     },
     "execution_count": 90,
     "metadata": {},
     "output_type": "execute_result"
    }
   ],
   "source": [
    "dailyo_df.head()"
   ]
  },
  {
   "cell_type": "code",
   "execution_count": null,
   "metadata": {},
   "outputs": [],
   "source": []
  }
 ],
 "metadata": {
  "kernelspec": {
   "display_name": "Python 3",
   "language": "python",
   "name": "python3"
  },
  "language_info": {
   "codemirror_mode": {
    "name": "ipython",
    "version": 3
   },
   "file_extension": ".py",
   "mimetype": "text/x-python",
   "name": "python",
   "nbconvert_exporter": "python",
   "pygments_lexer": "ipython3",
   "version": "3.6.7"
  }
 },
 "nbformat": 4,
 "nbformat_minor": 2
}
