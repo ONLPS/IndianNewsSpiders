{
 "cells": [
  {
   "cell_type": "code",
   "execution_count": 1,
   "metadata": {},
   "outputs": [],
   "source": [
    "%store -r __std_imports"
   ]
  },
  {
   "cell_type": "code",
   "execution_count": 2,
   "metadata": {},
   "outputs": [
    {
     "name": "stdout",
     "output_type": "stream",
     "text": [
      "importing os, re, pathlib, numpy, pandas and tqdm.\n"
     ]
    }
   ],
   "source": [
    "__std_imports"
   ]
  },
  {
   "cell_type": "code",
   "execution_count": 14,
   "metadata": {},
   "outputs": [],
   "source": [
    "from collections import namedtuple"
   ]
  },
  {
   "cell_type": "code",
   "execution_count": 42,
   "metadata": {},
   "outputs": [],
   "source": [
    "wire_path = \"../IndianNews/data/wire_full.csv\"\n",
    "catch_path = \"../IndianNews/data/catchnews_full.csv\"\n",
    "dailyo_path = \"../IndianNews/data/dailyo_full.csv\"\n",
    "quint_path = \"../IndianNews/data/quint_full.csv\"\n",
    "scroll_path = \"../IndianNews/data/scroll_full.csv\""
   ]
  },
  {
   "cell_type": "code",
   "execution_count": 36,
   "metadata": {},
   "outputs": [],
   "source": [
    "def read_data(path): \n",
    "    doc = namedtuple(\"DOC\", [\"data\", \"missing_vals_count\",\n",
    "                        \"unique_vals\", \"missing_vals_data\"])\n",
    "    \n",
    "    df = pd.read_csv(path)\n",
    "    missing_vals_count = df.isna().sum()\n",
    "    unique_vals = df.apply(pd.Series.nunique)\n",
    "    naframe = df[df.isnull().any(axis=1)]\n",
    "    return doc(df, missing_vals_count, unique_vals, naframe)\n",
    "\n",
    "def filter_data_from_dates(df, start, end):\n",
    "    return df[(df['date'] > f'{start}') & (df['date'] < f'{end}')]"
   ]
  },
  {
   "cell_type": "code",
   "execution_count": 50,
   "metadata": {},
   "outputs": [],
   "source": [
    "scroll = read_data(scroll_path)\n",
    "scrolldf = filter_data_from_dates(scroll.data, '2017-01-01', '2018-12-01')"
   ]
  },
  {
   "cell_type": "code",
   "execution_count": 51,
   "metadata": {},
   "outputs": [],
   "source": [
    "dailyo = read_data(dailyo_path)\n",
    "dailyodf = filter_data_from_dates(dailyo.data, '2017-01-01', '2018-12-01')"
   ]
  },
  {
   "cell_type": "code",
   "execution_count": 55,
   "metadata": {},
   "outputs": [],
   "source": [
    "wire = read_data(wire_path)\n",
    "wiredf = filter_data_from_dates(wire.data, '2017-01-01', '2018-12-01')"
   ]
  },
  {
   "cell_type": "code",
   "execution_count": 57,
   "metadata": {},
   "outputs": [],
   "source": [
    "#TODO: firstpost, opindia, catchnews, quint"
   ]
  },
  {
   "cell_type": "code",
   "execution_count": null,
   "metadata": {},
   "outputs": [],
   "source": []
  },
  {
   "cell_type": "code",
   "execution_count": null,
   "metadata": {},
   "outputs": [],
   "source": []
  },
  {
   "cell_type": "code",
   "execution_count": null,
   "metadata": {},
   "outputs": [],
   "source": []
  },
  {
   "cell_type": "code",
   "execution_count": null,
   "metadata": {},
   "outputs": [],
   "source": []
  }
 ],
 "metadata": {
  "kernelspec": {
   "display_name": "Python 3",
   "language": "python",
   "name": "python3"
  },
  "language_info": {
   "codemirror_mode": {
    "name": "ipython",
    "version": 3
   },
   "file_extension": ".py",
   "mimetype": "text/x-python",
   "name": "python",
   "nbconvert_exporter": "python",
   "pygments_lexer": "ipython3",
   "version": "3.6.7"
  }
 },
 "nbformat": 4,
 "nbformat_minor": 2
}
